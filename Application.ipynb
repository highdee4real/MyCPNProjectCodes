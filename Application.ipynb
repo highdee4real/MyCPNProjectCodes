{
 "cells": [
  {
   "cell_type": "code",
   "execution_count": 1,
   "id": "12d0eae7-412f-44ce-804e-b4c5b62f17c3",
   "metadata": {},
   "outputs": [],
   "source": [
    "import numpy as np\n",
    "import pickle\n",
    "import streamlit as st"
   ]
  },
  {
   "cell_type": "code",
   "execution_count": 3,
   "id": "8a37b67f-7a9a-458a-a6bc-67edf800315d",
   "metadata": {},
   "outputs": [],
   "source": [
    "#loading the saved model \n",
    "model = pickle.load(open('./tuned_model.sav','rb'))"
   ]
  },
  {
   "cell_type": "code",
   "execution_count": null,
   "id": "6dfe2013-7b5a-4bd2-bae7-577c64d42727",
   "metadata": {},
   "outputs": [],
   "source": [
    "def main():   \n",
    "    \n",
    "    #title \n",
    "    st.title(\"Loan Default Prediction System\")\n",
    "    st.markdown('Kindly enter the borrower\\'s data')\n",
    "    \n",
    "    #getting user inputs\n",
    "    income = st.text_input(\"Income of the borrower\")\n",
    "    business_or_commercial = st.text_input(\"Business or commercial. Enter 0 for business/commercial and 1 for Non-business/commercial-personal\")\n",
    "    Neg_ammortization = st.text_input(\"Negative amortization. Enter 0 for negative amortization and 1 for not negative\")\n",
    "    lump_sum_payment = st.text_input(\"Lump sum payment. Enter 0 for lump sum payment and 1 for not lump sum payment\")\n",
    "    credit_type = st.text_input(\"Credit type. Enter 0 for  Credit Information Bureau, 1 for Credit Reference Information Format, 2 for  Equipment financing or Equipment loan and 3 for Express loan or Expedited loan\")\n",
    "    co_applicant_credit_type = st.text_input(\"Co-application credit type. Enter 0 for Credit Information Bureau and 1 for Express loan or Expedited loan\")\n",
    "    submission_of_application = st.text_input(\"Submission channel. Enter 0 for Not institutional, 1 for Financial institution, and 2 for Not applicable\")\n",
    "         \n",
    "    output = ''\n",
    "#Credit_Score, Num_Credit_Lines, Has_Dependents,\n",
    "    #button for prediction\n",
    "    if st.button('Classify'):\n",
    "        data = np.array([income, business_or_commercial, Neg_ammortization, lump_sum_payment, credit_type, co_applicant_credit_type, submission_of_application], dtype=np.float64)\n",
    "        \n",
    "        data_reshape = data.reshape(1, -1)\n",
    "        \n",
    "        #make prediction with the data\n",
    "        result = model.predict(data_reshape)\n",
    "        #result = int(result)\n",
    "        \n",
    "        if result == 0:\n",
    "            output = 'Non-Defaulted'  \n",
    "        else:\n",
    "            output = 'Defaulted'\n",
    "    \n",
    "    st.info(output)\n",
    "        \n",
    "        \n",
    "        \n",
    "if __name__ == '__main__':\n",
    "    main()\n",
    "        "
   ]
  },
  {
   "cell_type": "code",
   "execution_count": null,
   "id": "469a0699-34e0-4550-bc11-1d56b15c0c32",
   "metadata": {},
   "outputs": [],
   "source": []
  }
 ],
 "metadata": {
  "kernelspec": {
   "display_name": "Python 3 (ipykernel)",
   "language": "python",
   "name": "python3"
  },
  "language_info": {
   "codemirror_mode": {
    "name": "ipython",
    "version": 3
   },
   "file_extension": ".py",
   "mimetype": "text/x-python",
   "name": "python",
   "nbconvert_exporter": "python",
   "pygments_lexer": "ipython3",
   "version": "3.10.15"
  }
 },
 "nbformat": 4,
 "nbformat_minor": 5
}
